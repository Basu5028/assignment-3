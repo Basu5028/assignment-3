{
 "cells": [
  {
   "cell_type": "code",
   "execution_count": 1,
   "id": "45a9e734",
   "metadata": {},
   "outputs": [
    {
     "name": "stdout",
     "output_type": "stream",
     "text": [
      "20\n"
     ]
    }
   ],
   "source": [
    "def sum(*vals):\n",
    "    total = 0\n",
    "    for i in vals:\n",
    "        total += i\n",
    "    return total\n",
    "print(sum(8, 2, 3, 0, 7))"
   ]
  },
  {
   "cell_type": "code",
   "execution_count": 2,
   "id": "18e6a2aa",
   "metadata": {},
   "outputs": [
    {
     "name": "stdout",
     "output_type": "stream",
     "text": [
      "No. of Upper case characters : 1\n",
      "No. of Lower case Characters : 6\n"
     ]
    }
   ],
   "source": [
    "def case_cal(str_data):\n",
    "    lower_count = upper_count =0\n",
    "    if isinstance(str_data, str):\n",
    "        for ch in str_data:\n",
    "            if ch.isupper():\n",
    "                upper_count += 1\n",
    "            elif ch.islower():\n",
    "                lower_count += 1\n",
    "        return \"No. of Upper case characters : \"+str(upper_count)+\"\\nNo. of Lower case Characters : \"+str(lower_count)\n",
    "    else:\n",
    "        return \"Enter String Value only.\"\n",
    "    \n",
    "    \n",
    "print(case_cal(\"Bhaskar\"))"
   ]
  },
  {
   "cell_type": "code",
   "execution_count": 3,
   "id": "b871d6a9",
   "metadata": {},
   "outputs": [
    {
     "data": {
      "text/plain": [
       "'dcba4321'"
      ]
     },
     "execution_count": 3,
     "metadata": {},
     "output_type": "execute_result"
    }
   ],
   "source": [
    "def without_def_function(str_data):\n",
    "    rev_data = \"\"\n",
    "    for ch in str_data:\n",
    "        rev_data = ch + rev_data\n",
    "    return rev_data\n",
    "without_def_function(\"1234abcd\")"
   ]
  },
  {
   "cell_type": "code",
   "execution_count": null,
   "id": "cf0846c6",
   "metadata": {},
   "outputs": [],
   "source": []
  }
 ],
 "metadata": {
  "kernelspec": {
   "display_name": "Python 3 (ipykernel)",
   "language": "python",
   "name": "python3"
  },
  "language_info": {
   "codemirror_mode": {
    "name": "ipython",
    "version": 3
   },
   "file_extension": ".py",
   "mimetype": "text/x-python",
   "name": "python",
   "nbconvert_exporter": "python",
   "pygments_lexer": "ipython3",
   "version": "3.10.2"
  }
 },
 "nbformat": 4,
 "nbformat_minor": 5
}
